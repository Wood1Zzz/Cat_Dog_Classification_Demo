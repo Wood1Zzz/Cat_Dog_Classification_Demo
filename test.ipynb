{
 "metadata": {
  "language_info": {
   "codemirror_mode": {
    "name": "ipython",
    "version": 3
   },
   "file_extension": ".py",
   "mimetype": "text/x-python",
   "name": "python",
   "nbconvert_exporter": "python",
   "pygments_lexer": "ipython3",
   "version": 3
  },
  "orig_nbformat": 2
 },
 "nbformat": 4,
 "nbformat_minor": 2,
 "cells": [
  {
   "cell_type": "code",
   "execution_count": null,
   "metadata": {},
   "outputs": [
    {
     "output_type": "error",
     "ename": "Error",
     "evalue": "Jupyter cannot be started. Error attempting to locate jupyter: Data Science libraries jupyter and notebook are not installed in interpreter Python 3.8.5 64-bit ('base': conda).",
     "traceback": [
      "Error: Jupyter cannot be started. Error attempting to locate jupyter: Data Science libraries jupyter and notebook are not installed in interpreter Python 3.8.5 64-bit ('base': conda).",
      "at S.startServer (/home/danzer/.vscode/extensions/ms-toolsai.jupyter-2021.6.811652604/out/client/extension.js:54:382764)",
      "at async S.createServer (/home/danzer/.vscode/extensions/ms-toolsai.jupyter-2021.6.811652604/out/client/extension.js:54:382059)",
      "at async connect (/home/danzer/.vscode/extensions/ms-toolsai.jupyter-2021.6.811652604/out/client/extension.js:90:179008)",
      "at async D.ensureConnectionAndNotebookImpl (/home/danzer/.vscode/extensions/ms-toolsai.jupyter-2021.6.811652604/out/client/extension.js:37:627291)",
      "at async D.ensureConnectionAndNotebook (/home/danzer/.vscode/extensions/ms-toolsai.jupyter-2021.6.811652604/out/client/extension.js:37:625523)",
      "at async D.clearResult (/home/danzer/.vscode/extensions/ms-toolsai.jupyter-2021.6.811652604/out/client/extension.js:37:621185)",
      "at async D.reexecuteCell (/home/danzer/.vscode/extensions/ms-toolsai.jupyter-2021.6.811652604/out/client/extension.js:37:607450)",
      "at async D.reexecuteCells (/home/danzer/.vscode/extensions/ms-toolsai.jupyter-2021.6.811652604/out/client/extension.js:37:603654)"
     ]
    }
   ],
   "source": [
    "import torch\n",
    "\n",
    "print(\"hello world\")"
   ]
  },
  {
   "cell_type": "code",
   "execution_count": null,
   "metadata": {},
   "outputs": [],
   "source": []
  }
 ]
}